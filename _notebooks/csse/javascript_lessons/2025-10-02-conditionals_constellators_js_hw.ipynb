{
 "cells": [
  {
   "cell_type": "raw",
   "id": "655f0d43",
   "metadata": {
    "vscode": {
     "languageId": "raw"
    }
   },
   "source": [
    "---\n",
    "layout: post\n",
    "title: Constellators - Conditionals HW\n",
    "description: These are the homework problems and popcorn hacks, created by Team Constellators.\n",
    "permalink: /javascript/constellators/conditionals-hw\n",
    "author: Adya S, Niharika B, Salma Z, Anika S, Sophie H, Samarth H\n",
    "categories: [JavaScript, Homework]\n",
    "---"
   ]
  },
  {
   "cell_type": "markdown",
   "id": "8b8594f8",
   "metadata": {},
   "source": [
    "## **Conditionals**"
   ]
  },
  {
   "cell_type": "markdown",
   "id": "bafa8faf",
   "metadata": {},
   "source": [
    "### <u>Popcorn Hack 1 - Simple Conditionals</u>\n",
    "\n",
    "Instructions:\n",
    "Finish the code in the cell below (fill in underlines and add lines of code) so it becomes a functioning conditional. What you make is up to you!\n",
    "\n",
    "**Examples of conditionals you could use:**\n",
    "\n",
    "1) Define your mood today and give yourself ice cream if you're happy\n",
    "- challenge 1: add \"else if\" conditionals that echo different strings based on different moods\n",
    "- challenge 2: add user input to define a \"mood\" variable\n",
    "\n",
    "2) Define the weather today and echo \"It's sunny outside!\" if it's sunny\n",
    "- challenge 1: add \"else if\" conditionals that define other weather\n",
    "- challenge 2: let the user input today’s weather and respond automatically\n",
    "\n",
    "3) Define your age as a variable and check whether you are an adult or a child.\n",
    "- challenge 1: expand to add other categories using \"else if\" conditionals\n",
    "- challenge 2: create a random age generator and test the conditional multiple times to see different results\n",
    "\n",
    "The code is currently NOT functional. When you have completed this popcorn hack, the code should work. Have fun!"
   ]
  },
  {
   "cell_type": "code",
   "execution_count": null,
   "id": "41fab177",
   "metadata": {
    "vscode": {
     "languageId": "html"
    }
   },
   "outputs": [
    {
     "data": {
      "text/html": [
       "\n",
       "<div id=\"outputPH1\">Results will appear here:<br></div>\n",
       "\n",
       "<script>\n",
       "\n",
       "(() => {\n",
       "\n",
       "    const output = document.getElementById(\"outputPH1\");\n",
       "\n",
       "    let ______ = __________ // Define a variable and assign it a value\n",
       "\n",
       "    if (____________) { // \n",
       "        console.log(\"______________________\");\n",
       "        output.innerHTML += \"______________________\";\n",
       "    } else if (____________) {\n",
       "        console.log(\"______________________\");\n",
       "        output.innerHTML += \"______________________\";\n",
       "    } else {\n",
       "        console.log(\"______________________\");\n",
       "        output.innerHTML += \"______________________\";\n",
       "    }\n",
       "\n",
       "})();\n",
       "\n",
       "</script>\n",
       "\n"
      ],
      "text/plain": [
       "<IPython.core.display.HTML object>"
      ]
     },
     "metadata": {},
     "output_type": "display_data"
    }
   ],
   "source": [
    "%%html\n",
    "\n",
    "<div id=\"outputPH1\">Results will appear here:<br></div>\n",
    "\n",
    "<script>\n",
    "\n",
    "(() => {\n",
    "\n",
    "    const output = document.getElementById(\"outputPH1\");\n",
    "\n",
    "    let ______ = __________ // Define a variable and assign it a value\n",
    "    \n",
    "    if (____________) { // \n",
    "        console.log(\"______________________\");\n",
    "        output.innerText += \"______________________\";\n",
    "    } else if (____________) {\n",
    "        console.log(\"______________________\");\n",
    "        output.innerText += \"______________________\";\n",
    "    } else {\n",
    "        console.log(\"______________________\");\n",
    "        output.innerText += \"______________________\";\n",
    "    }\n",
    "\n",
    "})();\n",
    "\n",
    "</script>\n",
    "\n"
   ]
  },
  {
   "cell_type": "markdown",
   "id": "b0828d4a",
   "metadata": {},
   "source": [
    "### <u>Popcorn Hack 2 - Vending Machine</u>\n",
    "\n",
    "Instructions:\n",
    "This hack is a bit more complicated than the first. Points will be awarded based on effort and completion.\n",
    "\n",
    "Analyze the block of code below. Then, complete the following instructions:\n",
    "\n",
    "You're hungry, so you go to your nearest vending machine for a snack. It makes you wonder if you'd be able to build your own. You can!... Digitally. Below, fill in the blanks so that when someone is prompted with food options, there are sub options within each food. (ex: Chocolate > Milk Chocolate)\n",
    "\n",
    "1) **Create variables:**\n",
    "- snackChoice -> user input (prompt) to determine which random snack is chosen (number from 1-3)\n",
    "\n",
    "2) **Add basic conditionals determining what type of snack was chosen**\n",
    "\n",
    "3) **Add nested if statements for extra behavior**\n",
    "\n",
    "- Inside your chocolate condition:\n",
    "    - Add user input to determine what type of chocolate the user wants\n",
    "- Inside your candy condition:\n",
    "    - Add user input to determine what color candy the user wants\n",
    "\n",
    "4) **Challenge (OPTIONAL):**\n",
    "\n",
    "- Make it so that there is a 10% chance of the vending machine giving you an extra cookie!"
   ]
  },
  {
   "cell_type": "code",
   "execution_count": 18,
   "id": "eb021598",
   "metadata": {
    "vscode": {
     "languageId": "html"
    }
   },
   "outputs": [
    {
     "data": {
      "text/html": [
       "\n",
       "<div id=\"outputPH2\">Results will appear here:<br></div>\n",
       "\n",
       "<script>\n",
       "\n",
       "(() => {\n",
       "\n",
       "    const output = document.getElementById(\"outputPH2\");\n",
       "\n",
       "let snackChoice = prompt(\"Choose a number: 1, 2, or 3 to get a snack!\");\n",
       "\n",
       "    if (snackChoice == \"___\") { // Fill in the condition for chocolate bar\n",
       "        let chocolateType = prompt(\"You got a chocolate bar! Choose your type: milk or dark?\");\n",
       "\n",
       "        // Nested condition for chocolate type\n",
       "        if (chocolateType.toLowerCase() === \"___\") { // Fill in milk\n",
       "            output.innerText += \"___\\n\"; // Fill in message for milk chocolate\n",
       "        } else if (chocolateType.toLowerCase() === \"___\") { // Fill in dark\n",
       "            output.innerText += \"___\\n\"; // Fill in message for dark chocolate\n",
       "        } else {\n",
       "            output.innerText += \"___\\n\"; // Fill in message for unknown type\n",
       "        }\n",
       "\n",
       "    } else if (snackChoice == \"___\") { // Fill in the condition for chips\n",
       "        output.innerText += \"___\\n\"; // Fill in message for chips\n",
       "\n",
       "    } else if (snackChoice == \"___\") { // Fill in the condition for candy\n",
       "        let candyColor = prompt(\"You got candy! Choose your color: red, green, or yellow?\");\n",
       "\n",
       "        // Nested condition for candy color\n",
       "        if (candyColor.toLowerCase() === \"___\") { // Fill in red\n",
       "            output.innerText += \"___\\n\"; // Fill in message for red candy\n",
       "        } else if (candyColor.toLowerCase() === \"___\") { // Fill in green\n",
       "            output.innerText += \"___\\n\"; // Fill in message for green candy\n",
       "        } else if (candyColor.toLowerCase() === \"___\") { // Fill in yellow\n",
       "            output.innerText += \"___\\n\"; // Fill in message for yellow candy\n",
       "        } else {\n",
       "            output.innerText += \"___\\n\"; // Fill in message for unknown candy color\n",
       "        }\n",
       "\n",
       "    } else {\n",
       "        output.innerText += \"______________________\\n\"; // Fill in message for invalid snack choice\n",
       "    }\n",
       "\n",
       "    // Challenge: 10% chance of extra cookie\n",
       "    if (____________) { // How would you create a random number with a 10% chance of fitting some criteria?\n",
       "        output.innerText += \"Bonus treat! The machine gives you an extra cookie!\\n\";\n",
       "    }\n",
       "\n",
       "})();\n",
       "\n",
       "</script>\n"
      ],
      "text/plain": [
       "<IPython.core.display.HTML object>"
      ]
     },
     "metadata": {},
     "output_type": "display_data"
    }
   ],
   "source": [
    "%%html\n",
    "\n",
    "<div id=\"outputPH2\">Results will appear here:<br></div>\n",
    "\n",
    "<script>\n",
    "\n",
    "(() => {\n",
    "\n",
    "    const output = document.getElementById(\"outputPH2\");\n",
    "\n",
    "let snackChoice = prompt(\"Choose a number: 1, 2, or 3 to get a snack!\");\n",
    "\n",
    "    if (snackChoice == \"___\") { // Fill in the condition for chocolate bar\n",
    "        let chocolateType = prompt(\"You got a chocolate bar! Choose your type: milk or dark?\");\n",
    "        \n",
    "        // Nested condition for chocolate type\n",
    "        if (chocolateType.toLowerCase() === \"___\") { // Fill in milk\n",
    "            output.innerText += \"___\\n\"; // Fill in message for milk chocolate\n",
    "        } else if (chocolateType.toLowerCase() === \"___\") { // Fill in dark\n",
    "            output.innerText += \"___\\n\"; // Fill in message for dark chocolate\n",
    "        } else {\n",
    "            output.innerText += \"___\\n\"; // Fill in message for unknown type\n",
    "        }\n",
    "\n",
    "    } else if (snackChoice == \"___\") { // Fill in the condition for chips\n",
    "        output.innerText += \"___\\n\"; // Fill in message for chips\n",
    "\n",
    "    } else if (snackChoice == \"___\") { // Fill in the condition for candy\n",
    "        let candyColor = prompt(\"You got candy! Choose your color: red, green, or yellow?\");\n",
    "        \n",
    "        // Nested condition for candy color\n",
    "        if (candyColor.toLowerCase() === \"___\") { // Fill in red\n",
    "            output.innerText += \"___\\n\"; // Fill in message for red candy\n",
    "        } else if (candyColor.toLowerCase() === \"___\") { // Fill in green\n",
    "            output.innerText += \"___\\n\"; // Fill in message for green candy\n",
    "        } else if (candyColor.toLowerCase() === \"___\") { // Fill in yellow\n",
    "            output.innerText += \"___\\n\"; // Fill in message for yellow candy\n",
    "        } else {\n",
    "            output.innerText += \"___\\n\"; // Fill in message for unknown candy color\n",
    "        }\n",
    "\n",
    "    } else {\n",
    "        output.innerText += \"______________________\\n\"; // Fill in message for invalid snack choice\n",
    "    }\n",
    "\n",
    "    // Challenge: 10% chance of extra cookie\n",
    "    if (____________) { // How would you create a random number with a 10% chance of fitting some criteria?\n",
    "        output.innerText += \"Bonus treat! The machine gives you an extra cookie!\\n\";\n",
    "    }\n",
    "\n",
    "})();\n",
    "\n",
    "</script>"
   ]
  },
  {
   "cell_type": "markdown",
   "id": "fd070a7c",
   "metadata": {},
   "source": [
    "### <u>Homework</u>\n",
    "\n",
    "Complete the following questions in the next code block.\n",
    "\n",
    "1) Create a variable called \"temperature\" that defines a temperature. If it's above 80 degrees, print \"It’s hot outside!\". Otherwise, print \"It’s nice outside.\"\n",
    "\n",
    "2) Create a variable called \"score\". If score >= 90 print \"A\", 80-89 print \"B\", 70-79 print \"C\", otherwise print \"Needs improvement.\"\n",
    "\n",
    "3) Add a function to your \"score\" variable that prompts the user to input their score.\n",
    "\n",
    "4) Define a variable \"number\". If it’s even, print \"Even Number\"; otherwise, print \"Odd number.\" \n",
    "\n",
    "5) Instead of defining the variable \"number,\" make the number a random integer from 1-10.\n",
    "\n",
    "6) Define a variable called \"day\" (like 'Monday', 'Tuesday', etc.) and use a switch statement to print a message for that day.\n",
    "\n",
    "7) Add statements to the previous conditional: If today is 'Saturday' or 'Sunday', print \"Weekend!\"; else print \"Weekday!\".\n",
    "\n",
    "8) Create a boolean called \"loggedIn\" (true or false). If true, print \"Welcome back!\", otherwise print \"Please log in.\"\n",
    "\n",
    "9) Define a variable \"weather\". If it's raining, print \"It's raining.\" Else, print \"Go outside, it's a nice day today!\"\n",
    "\n",
    "10) **Extra Credit:** Submit the original OOP Breakout Game Code (found on [OpenCS](https://github.com/Open-Coding-Society/pages/blob/main/hacks/breakout/breakout.md?plain=1)) after making the following edits:\n",
    "- Add a conditional to the game that changes the color of the ball every time it hits the wall or another brick.\n",
    "- Try making the ball do something different when it collides (ex: speed up, shrink, glow).\n",
    "- Make sure your code is functional before you submit!\n",
    "- Have fun!"
   ]
  },
  {
   "cell_type": "code",
   "execution_count": 16,
   "id": "e1be89d5",
   "metadata": {
    "vscode": {
     "languageId": "html"
    }
   },
   "outputs": [
    {
     "data": {
      "text/html": [
       "\n",
       "<div id=\"outputHW\">Results will appear here:<br></div>\n",
       "\n",
       "<script>\n",
       "\n",
       "(() => {\n",
       "\n",
       "    const output = document.getElementById(\"outputHW\");\n",
       "\n",
       "    console.log(\"Code, code, code!\");\n",
       "    output.innerText += \"Code, code, code!\";\n",
       "\n",
       "    // YOUR CODE HERE\n",
       "\n",
       "})();\n",
       "\n",
       "</script>\n"
      ],
      "text/plain": [
       "<IPython.core.display.HTML object>"
      ]
     },
     "metadata": {},
     "output_type": "display_data"
    }
   ],
   "source": [
    "%%html\n",
    "\n",
    "<div id=\"outputHW\">Results will appear here:<br></div>\n",
    "\n",
    "<script>\n",
    "\n",
    "(() => {\n",
    "\n",
    "    const output = document.getElementById(\"outputHW\");\n",
    "\n",
    "    console.log(\"Code, code, code!\");\n",
    "    output.innerText += \"Code, code, code!\";\n",
    "\n",
    "    // YOUR CODE HERE\n",
    "\n",
    "})();\n",
    "\n",
    "</script>"
   ]
  }
 ],
 "metadata": {
  "kernelspec": {
   "display_name": "venv",
   "language": "python",
   "name": "python3"
  },
  "language_info": {
   "codemirror_mode": {
    "name": "ipython",
    "version": 3
   },
   "file_extension": ".py",
   "mimetype": "text/x-python",
   "name": "python",
   "nbconvert_exporter": "python",
   "pygments_lexer": "ipython3",
   "version": "3.12.3"
  }
 },
 "nbformat": 4,
 "nbformat_minor": 5
}
