{
 "cells": [
  {
   "cell_type": "markdown",
   "id": "1b7e1508",
   "metadata": {},
   "source": [
    "# Booleans Homework\n",
    "\n",
    "Samarth Hande\n",
    "\n",
    "## Hack 1\n"
   ]
  },
  {
   "cell_type": "code",
   "execution_count": 1,
   "id": "cc07e2df",
   "metadata": {},
   "outputs": [
    {
     "name": "stdout",
     "output_type": "stream",
     "text": [
      "Login Sucsess!\n"
     ]
    }
   ],
   "source": [
    "import getpass\n",
    "\n",
    "user = input(\"Username: \")\n",
    "passwd = getpass.getpass(\"Password: \")\n",
    "\n",
    "username_correct = user == \"admin\"\n",
    "passwd_correct = passwd == \"password\"\n",
    "\n",
    "if username_correct and passwd_correct:\n",
    "    print(\"Login Sucsess!\")\n",
    "else:\n",
    "    print(\"Sorry, try again\")"
   ]
  },
  {
   "cell_type": "markdown",
   "id": "9fe1c81f",
   "metadata": {},
   "source": [
    "## Hack 2"
   ]
  },
  {
   "cell_type": "code",
   "execution_count": null,
   "id": "a43b193a",
   "metadata": {},
   "outputs": [],
   "source": [
    "text = input(\"Enter number with decials:\" )\n",
    "if text.count(\".\") > 1:\n",
    "    print(\"Deny user\")\n",
    "else:\n",
    "    print(\"Allow user\")"
   ]
  },
  {
   "cell_type": "markdown",
   "id": "e44426e9",
   "metadata": {},
   "source": [
    "## Hack 3"
   ]
  },
  {
   "cell_type": "code",
   "execution_count": null,
   "id": "7c86efa5",
   "metadata": {
    "vscode": {
     "languageId": "javascript"
    }
   },
   "outputs": [],
   "source": [
    "%%javascript\n",
    "\n",
    "let justDone = false;\n",
    "\n",
    "// Now the user presses enter\n",
    "justDone = true;\n",
    "\n",
    "// Clear the screen\n",
    "if (justDone) {\n",
    "    output.innerHTML = \"\";\n",
    "    justDone = false;\n",
    "}"
   ]
  },
  {
   "cell_type": "markdown",
   "id": "fe531e95",
   "metadata": {},
   "source": [
    "## Hack 4"
   ]
  },
  {
   "cell_type": "code",
   "execution_count": null,
   "id": "152b0bde",
   "metadata": {
    "vscode": {
     "languageId": "javascript"
    }
   },
   "outputs": [],
   "source": [
    "let isNeg = false;\n",
    "\n",
    "// Toggle the output from positive to negitive, or visa versa\n",
    "if (isNeg) {               // currently negative\n",
    "  output.innerHTML = output.innerHTML.slice(1);\n",
    "  isNeg = false;\n",
    "} else {                   // currently positive\n",
    "  output.innerHTML = \"-\" + output.innerHTML;\n",
    "  isNeg = true;\n",
    "}"
   ]
  }
 ],
 "metadata": {
  "kernelspec": {
   "display_name": "venv",
   "language": "python",
   "name": "python3"
  },
  "language_info": {
   "codemirror_mode": {
    "name": "ipython",
    "version": 3
   },
   "file_extension": ".py",
   "mimetype": "text/x-python",
   "name": "python",
   "nbconvert_exporter": "python",
   "pygments_lexer": "ipython3",
   "version": "3.13.7"
  }
 },
 "nbformat": 4,
 "nbformat_minor": 5
}
