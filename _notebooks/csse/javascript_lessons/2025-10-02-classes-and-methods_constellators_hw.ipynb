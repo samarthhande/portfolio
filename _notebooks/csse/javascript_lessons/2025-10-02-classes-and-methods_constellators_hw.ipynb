{
 "cells": [
  {
   "cell_type": "raw",
   "id": "3ddc81e9",
   "metadata": {
    "vscode": {
     "languageId": "raw"
    }
   },
   "source": [
    "---\n",
    "layout: post\n",
    "toc: True\n",
    "breadcrumb: True\n",
    "title: CSSE Classes and Methods HW\n",
    "description: These are the homework problems and popcorn hacks.\n",
    "permalink: /csse/fall_2025/javascript/classes-and-methods/homework\n",
    "author: Adya S, Niharika B, Salma Z, Anika S, Sophie H, Samarth H\n",
    "catagories: [Javascript, Homework, Classes]\n",
    "---"
   ]
  },
  {
   "cell_type": "markdown",
   "id": "04a627a9",
   "metadata": {},
   "source": [
    "## **Classes and Methods**"
   ]
  },
  {
   "cell_type": "markdown",
   "id": "a88704ec",
   "metadata": {},
   "source": [
    "### <u>Popcorn Hack 1 - Dice Roller</u>\n",
    "\n",
    "\n",
    "Instructions:\n",
    "Finish the code in the cell below (fill in underlines and add lines of code) so it works as described:\n",
    "\n",
    "- Create a class called Dice that:\n",
    "    - Has a property for the number of sides.\n",
    "    - Has a method roll() that returns a random number between 1 and the number of sides.\n",
    "\n",
    "\n",
    "At the bottom, test your game by making a DiceGame object and calling roll() a few times.\n",
    "\n",
    "The code is currently NOT functional. When you have completed this popcorn hack, the code should work. Have fun!"
   ]
  },
  {
   "cell_type": "code",
   "execution_count": null,
   "id": "83cfb441",
   "metadata": {
    "vscode": {
     "languageId": "javascript"
    }
   },
   "outputs": [
    {
     "data": {
      "application/javascript": "\nclass Dice { // What should the name of the class be?\n  constructor(sides) { // Constructor to initialize the number of sides\n    this.sides = sides; // Number of sides on the dice\n  }\n\n  roll() { // What should the name of the method be?\n    return Math.floor(Math.random() * this.sides) + 1; // Rolls the dice and returns a number between 1 and the number of sides\n  }\n}\n\n// Test the Dice class:\n// INSTANTIATE A NEW DICE OBJECT WITH A NUMBER OF SIDES\nlet anishTheDice = new Dice(6);\n\n// CALL THE ROLL METHOD A FEW TIMES AND PRINT THE RESULTS\nconsole.log(anishTheDice.roll());\nconsole.log(anishTheDice.roll());\n",
      "text/plain": [
       "<IPython.core.display.Javascript object>"
      ]
     },
     "metadata": {},
     "output_type": "display_data"
    }
   ],
   "source": [
    "%%javascript\n",
    "\n",
    "class Dice { // What should the name of the class be?\n",
    "  constructor(sides) { // Constructor to initialize the number of sides\n",
    "    this.sides = sides; // Number of sides on the dice\n",
    "  }\n",
    "\n",
    "  roll() { // What should the name of the method be?\n",
    "    return Math.floor(Math.random() * this.sides) + 1; // Rolls the dice and returns a number between 1 and the number of sides\n",
    "  }\n",
    "}\n",
    "\n",
    "// Test the Dice class:\n",
    "// INSTANTIATE A NEW DICE OBJECT WITH A NUMBER OF SIDES\n",
    "let anishTheDice = new Dice(6);  // Yes I'm using Anish for my dice\n",
    "\n",
    "// CALL THE ROLL METHOD A FEW TIMES AND PRINT THE RESULTS\n",
    "console.log(anishTheDice.roll());\n",
    "console.log(anishTheDice.roll());"
   ]
  },
  {
   "cell_type": "markdown",
   "id": "eb525919",
   "metadata": {},
   "source": [
    "### <u>Popcorn Hack 2 - Pet Simulator</u>\n",
    "\n",
    "\n",
    "This hack is a bit more complicated than the first. Points will be awarded based on effort and completion.\n",
    "\n",
    "\n",
    "Analyze the block of code below. Then, complete the following instructions:\n",
    "\n",
    "\n",
    "1) Create a simple Pet class by filling in the _________.\n",
    "\n",
    "2) Add at least 2 properties (like hunger, energy, or happiness). EX: Stats decrease over time.\n",
    "\n",
    "3) Add at least two functioning methods (such as feed, play, or sleep) EX: Buttons increase stats.\n",
    "\n",
    "4) Give your pet a name and print their current properties.\n",
    "\n",
    "5) Bonus: Add a \"status\" method to print all your pet's stats.\n",
    "\n",
    "\n",
    "The code is currently NOT functional. When you have completed this popcorn hack, the code should work. Have fun!\n",
    "\n"
   ]
  },
  {
   "cell_type": "code",
   "execution_count": 63,
   "id": "740b316c",
   "metadata": {
    "vscode": {
     "languageId": "html"
    }
   },
   "outputs": [
    {
     "data": {
      "text/html": [
       "\n",
       "<p id=\"output\"></p>\n",
       "<button onclick=\"window.myPet.arya()\">ARYA (Don't do this)</button>\n",
       "<button onclick=\"window.myPet.jump()\">JUMP</button>\n",
       "<button onclick=\"window.myPet.wait()\">WAIT</button>\n",
       "\n",
       "<script>\n",
       "  window.output = document.querySelector(\"#output\");\n",
       "\n",
       "  // Define our Pet class :) <-- At least it isn't Anish this time\n",
       "  window.Pet = class {\n",
       "    constructor(name) {\n",
       "      this.name = name;\n",
       "      this.sanity = 5;\n",
       "      this.patience = 5;\n",
       "      this.tiredLevel = 5;\n",
       "    }\n",
       "\n",
       "    jump() {\n",
       "      this.sanity++;\n",
       "      this.tiredLevel++;\n",
       "      console.log(`Sanity: ${this.sanity}; Patience: ${this.patience}; Tired Level: ${this.tiredLevel}`);\n",
       "    }\n",
       "\n",
       "    wait() {\n",
       "      this.sanity--;\n",
       "      this.patience--;\n",
       "      console.log(`Sanity: ${this.sanity}; Patience: ${this.patience}; Tired Level: ${this.tiredLevel}`);\n",
       "    }\n",
       "\n",
       "    arya() {\n",
       "      this.name = \"Arya\";\n",
       "      this.sanity = -100;\n",
       "      this.patience = 100;\n",
       "      this.tiredLevel = -10000;\n",
       "      console.log(`Sanity: ${this.sanity}; Patience: ${this.patience}; Tired Level: ${this.tiredLevel}`);\n",
       "    }\n",
       "  };\n",
       "\n",
       "  window.myPet = new window.Pet(\"Anish\");  // <-- (jk it was Anish)\n",
       "</script>\n"
      ],
      "text/plain": [
       "<IPython.core.display.HTML object>"
      ]
     },
     "metadata": {},
     "output_type": "display_data"
    }
   ],
   "source": [
    "%%html\n",
    "\n",
    "<p id=\"output\"></p>\n",
    "<button onclick=\"window.myPet.arya()\">ARYA (Don't do this)</button>\n",
    "<button onclick=\"window.myPet.jump()\">JUMP</button>\n",
    "<button onclick=\"window.myPet.wait()\">WAIT</button>\n",
    "\n",
    "<script>\n",
    "  window.output = document.querySelector(\"#output\");\n",
    "\n",
    "  // Define our Pet class :) <-- At least it isn't Anish this time\n",
    "  window.Pet = class {\n",
    "    constructor(name) {\n",
    "      this.name = name;\n",
    "      this.sanity = 5;\n",
    "      this.patience = 5;\n",
    "      this.tiredLevel = 5;\n",
    "    }\n",
    "\n",
    "    jump() {\n",
    "      this.sanity++;\n",
    "      this.tiredLevel++;\n",
    "      console.log(`Sanity: ${this.sanity}; Patience: ${this.patience}; Tired Level: ${this.tiredLevel}`);\n",
    "    }\n",
    "\n",
    "    wait() {\n",
    "      this.sanity--;\n",
    "      this.patience--;\n",
    "      console.log(`Sanity: ${this.sanity}; Patience: ${this.patience}; Tired Level: ${this.tiredLevel}`);\n",
    "    }\n",
    "\n",
    "    arya() {\n",
    "      this.name = \"Arya\";\n",
    "      this.sanity = -100;\n",
    "      this.patience = 100;\n",
    "      this.tiredLevel = -10000;\n",
    "      console.log(`Sanity: ${this.sanity}; Patience: ${this.patience}; Tired Level: ${this.tiredLevel}`);\n",
    "    }\n",
    "  };\n",
    "\n",
    "  window.myPet = new window.Pet(\"Anish\");  // <-- (jk it was Anish)\n",
    "</script>"
   ]
  },
  {
   "cell_type": "markdown",
   "id": "e7ae67bd",
   "metadata": {},
   "source": [
    "### <u>Homework</u>\n",
    "\n",
    "Complete the following questions in the next code block.\n",
    "\n",
    "1) Create a class Person with properties 'name' and 'age'. Print their properties.\n",
    "\n",
    "2) Add a method greet() to your Person class that prints a greeting using the person's name.\n",
    "\n",
    "3) Create a class Book with properties 'title', 'author', and 'pages'. Instantiate a book and print its properties.\n",
    "\n",
    "4) Add a method read(pages) to your Book class that increments a pagesRead property and prints a message.\n",
    "\n",
    "5) Add a method isLongBook() that returns true if pages > 300, otherwise false. Print the result for your book.\n",
    "\n",
    "6) Create a class Car with properties 'make', 'model', and 'fuel'. Add methods drive(distance) and refuel(amount). Print messages in each method.\n",
    "\n",
    "7) Add a static method info() to your Car class that prints 'Cars are vehicles.'\n",
    "\n",
    "8) Create a class ElectricCar that extends Car. Add a property 'battery' and a method charge(amount) that increases battery. Print battery level after charging.\n",
    "\n",
    "10) Create a routine that combines your objects: drive a Car, charge an ElectricCar, read pages from a Book, and call greet() on Person. Print outputs for each action.\n",
    "\n",
    "11) **Extra Credit:** Submit the original OOP Breakout Game Code (found on [OpenCS](https://github.com/Open-Coding-Society/pages/blob/main/hacks/breakout/breakout.md?plain=1)) after making the following edits:\n",
    "- Add another feature to the game: Add a method so that the ball must collide with some bricks twice for a brick to break completely.\n",
    "- Edit a method in the ball class to increase/decrease the speed of the ball: Please add a COMMENT on the game code that specifies which line you edited."
   ]
  },
  {
   "cell_type": "code",
   "execution_count": null,
   "id": "52d29f28",
   "metadata": {
    "vscode": {
     "languageId": "javascript"
    }
   },
   "outputs": [
    {
     "data": {
      "application/javascript": "\n// 1\nclass Person {\n  constructor(name, age) {\n    this.name = name;\n    this.age = age;\n  }\n  // 2\n  greet() {\n    console.log(`Hello, ${this.name}!`);\n  }\n}\nlet anish = new Person(\"Anish\", 5);  // ANISH IS BACK!\nconsole.log(`${anish.name} is ${anish.age} years old!`);\n\n// 3\nclass Book {\n  constructor(title, author, pages) {\n    this.title = title;\n    this.author = author;\n    this.pages = pages;\n    this.pagesRead = 0;\n  }\n  // 4\n  read(pages) {\n    this.pagesRead += pages;\n    if (this.pagesRead >= this.pages) {\n      console.log(\"You finished reading the book!\");\n      this.pagesRead = this.pages;\n    } else {\n      console.log(`You've just read ${pages} pages, bringing you to a grand total of ${this.pagesRead}!`);\n    }\n  }\n  // 5\n  isLongBook() {\n    return this.pages > 300;\n  }\n}\nlet anishsBook = new Book(\"How Anish Formed Anishiapolis\", \"Anish Gupta\", 301);\nconsole.log(`(True/False) Anish's book is long: ${anishsBook.isLongBook()}`);\n\n// 6\nclass Car {\n  constructor(make, model, fuel) {\n    this.make = make;\n    this.model = model;\n    this.fuel = fuel;\n  }\n  drive(distance) {\n    this.fuel -= distance;\n    if (this.fuel < 0) {\n      console.log(`You couldn't drive the full distance since you ran out of fuel :(`);\n      this.fuel = 0;\n    } else {\n      console.log(`You drove ${distance} units! You now have ${this.fuel} of fuel units left :)`);\n    }\n  }\n  refuel(fuel) {\n    this.fuel += fuel;\n    console.log(`You gained ${fuel} fuel units, and now have a total of ${this.fuel}!`);\n  }\n  // 7\n  info() {\n    console.log(\"INFO> Just in case you didn't know, cars are vehicles!\");\n    console.log(`INFO> This car is: ${this.make} ${this.model}`);\n  }\n}\n\nlet anishsCar = new Car(\"AnishCar\", \"All-Anish-V\", 30);\nanishsCar.info();\nconsole.log(`Fuel: ${anishsCar.fuel}`);\n\n// 8\nclass ElectricCar extends Car {\n  constructor(make, model, battery) {\n    super(make, model);\n    this.battery = battery;\n  }\n  charge(ammount) {\n    this.battery += ammount;\n    console.log(`The battery has been charged by ${ammount} and is now at ${this.battery}!`);\n  }\n}\nlet anishsECar = new ElectricCar(\"AnishCar\", \"All-Anish-E\", 30);\n\n// 9\nanish.greet();\nanishsBook.read(200);\nanishsCar.drive(28)\nanishsECar.charge(3);\n\n// \n\n// 10\n\n",
      "text/plain": [
       "<IPython.core.display.Javascript object>"
      ]
     },
     "metadata": {},
     "output_type": "display_data"
    }
   ],
   "source": [
    "%%javascript\n",
    "\n",
    "// 1\n",
    "class Person {\n",
    "  constructor(name, age) {\n",
    "    this.name = name;\n",
    "    this.age = age;\n",
    "  }\n",
    "  // 2\n",
    "  greet() {\n",
    "    console.log(`Hello, ${this.name}!`);\n",
    "  }\n",
    "}\n",
    "let anish = new Person(\"Anish\", 5);  // ANISH IS BACK!\n",
    "console.log(`${anish.name} is ${anish.age} years old!`);\n",
    "\n",
    "// 3\n",
    "class Book {\n",
    "  constructor(title, author, pages) {\n",
    "    this.title = title;\n",
    "    this.author = author;\n",
    "    this.pages = pages;\n",
    "    this.pagesRead = 0;\n",
    "  }\n",
    "  // 4\n",
    "  read(pages) {\n",
    "    this.pagesRead += pages;\n",
    "    if (this.pagesRead >= this.pages) {\n",
    "      console.log(\"You finished reading the book!\");\n",
    "      this.pagesRead = this.pages;\n",
    "    } else {\n",
    "      console.log(`You've just read ${pages} pages, bringing you to a grand total of ${this.pagesRead}!`);\n",
    "    }\n",
    "  }\n",
    "  // 5\n",
    "  isLongBook() {\n",
    "    return this.pages > 300;\n",
    "  }\n",
    "}\n",
    "let anishsBook = new Book(\"How Anish Formed Anishiapolis\", \"Anish Gupta\", 301);\n",
    "console.log(`(True/False) Anish's book is long: ${anishsBook.isLongBook()}`);\n",
    "\n",
    "// 6\n",
    "class Car {\n",
    "  constructor(make, model, fuel) {\n",
    "    this.make = make;\n",
    "    this.model = model;\n",
    "    this.fuel = fuel;\n",
    "  }\n",
    "  drive(distance) {\n",
    "    this.fuel -= distance;\n",
    "    if (this.fuel < 0) {\n",
    "      console.log(`You couldn't drive the full distance since you ran out of fuel :(`);\n",
    "      this.fuel = 0;\n",
    "    } else {\n",
    "      console.log(`You drove ${distance} units! You now have ${this.fuel} of fuel units left :)`);\n",
    "    }\n",
    "  }\n",
    "  refuel(fuel) {\n",
    "    this.fuel += fuel;\n",
    "    console.log(`You gained ${fuel} fuel units, and now have a total of ${this.fuel}!`);\n",
    "  }\n",
    "  // 7\n",
    "  info() {\n",
    "    console.log(\"INFO> Just in case you didn't know, cars are vehicles!\");\n",
    "    console.log(`INFO> This car is: ${this.make} ${this.model}`);\n",
    "  }\n",
    "}\n",
    "\n",
    "let anishsCar = new Car(\"AnishCar\", \"All-Anish-V\", 30);\n",
    "anishsCar.info();\n",
    "console.log(`Fuel: ${anishsCar.fuel}`);\n",
    "\n",
    "// 8\n",
    "class ElectricCar extends Car {\n",
    "  constructor(make, model, battery) {\n",
    "    super(make, model);\n",
    "    this.battery = battery;\n",
    "  }\n",
    "  charge(ammount) {\n",
    "    this.battery += ammount;\n",
    "    console.log(`The battery has been charged by ${ammount} and is now at ${this.battery}!`);\n",
    "  }\n",
    "}\n",
    "let anishsECar = new ElectricCar(\"AnishCar\", \"All-Anish-E\", 30);\n",
    "\n",
    "// 9\n",
    "anish.greet();\n",
    "anishsBook.read(200);\n",
    "anishsCar.drive(28)\n",
    "anishsECar.charge(3);\n",
    "\n",
    "// 10\n",
    "\n"
   ]
  }
 ],
 "metadata": {
  "kernelspec": {
   "display_name": "venv (3.12.3)",
   "language": "python",
   "name": "python3"
  },
  "language_info": {
   "codemirror_mode": {
    "name": "ipython",
    "version": 3
   },
   "file_extension": ".py",
   "mimetype": "text/x-python",
   "name": "python",
   "nbconvert_exporter": "python",
   "pygments_lexer": "ipython3",
   "version": "3.12.3"
  }
 },
 "nbformat": 4,
 "nbformat_minor": 5
}
