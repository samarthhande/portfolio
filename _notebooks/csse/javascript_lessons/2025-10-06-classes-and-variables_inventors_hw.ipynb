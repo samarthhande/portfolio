{
 "cells": [
  {
   "cell_type": "raw",
   "id": "e90135fa",
   "metadata": {
    "vscode": {
     "languageId": "raw"
    }
   },
   "source": [
    "---\n",
    "toc: True\n",
    "layout: post\n",
    "data: tools\n",
    "title: Varclasses\n",
    "description: Teaching Variables and Classes\n",
    "permalink: /csse/fall_2025/javascript/classes-and-variables/hw\n",
    "author: Samarth Hande\n",
    "catagories: [Javascript, Homework, Classes]\n",
    "---"
   ]
  },
  {
   "cell_type": "markdown",
   "id": "12325025",
   "metadata": {},
   "source": [
    "## POPCORN HACK 1 A short program about variables\n"
   ]
  },
  {
   "cell_type": "code",
   "execution_count": null,
   "id": "cd165c29",
   "metadata": {
    "vscode": {
     "languageId": "javascript"
    }
   },
   "outputs": [],
   "source": [
    "%%javascript\n",
    "\n",
    "// Step 1: Make some variables\n",
    "let name = \"Samarth\";\n",
    "let age = 14;\n",
    "\n",
    "// Step 2: Print a message\n",
    "console.log(\"Hi, my name is\", name);\n",
    "console.log(\"I am\", age, \"years old.\");\n",
    "\n",
    "// Step 3: Unfinished part\n",
    "// TODO: Make a new variable called \"nextYearAge\"\n",
    "// that is the age plus 1\n",
    "\n",
    "let nextYearAge = age + 1;\n",
    "\n",
    "// TODO: Print out the result\n",
    "// Example: \"Next year I will be 11 years old.\"\n",
    "console.log(\"My age next year: \", nextYearAge);\n"
   ]
  },
  {
   "cell_type": "markdown",
   "id": "8b9b8297",
   "metadata": {},
   "source": [
    "## POPCORN HACK 2 A short program about classes\n"
   ]
  },
  {
   "cell_type": "code",
   "execution_count": null,
   "id": "90501500",
   "metadata": {
    "vscode": {
     "languageId": "javascript"
    }
   },
   "outputs": [],
   "source": [
    "%%javascript\n",
    "\n",
    "// Step 1: Define the Animal class\n",
    "class Animal {\n",
    "  // Initialize each animal with a name, sound, and type\n",
    "  constructor(name, sound, kind) {\n",
    "    this.name = name;\n",
    "    this.sound = sound;\n",
    "    this.kind = kind;\n",
    "  }\n",
    "\n",
    "  // Make the animal speak\n",
    "  speak() {\n",
    "    console.log(`${this.name} the ${this.kind} says ${this.sound}!`);\n",
    "  }\n",
    "\n",
    "  // Bonus method: describe the animal\n",
    "  describe() {\n",
    "    console.log(`${this.name} is a ${this.kind} and is very friendly!`);\n",
    "  }\n",
    "}\n",
    "\n",
    "// Step 2: Create a list to hold all the animals in the zoo\n",
    "let zoo = [];\n",
    "\n",
    "// Step 3: Add animals to the zoo\n",
    "// DONE: Create at least 3 animals and push them into the zoo array\n",
    "zoo.push(new Animal(\"Sparky\", \"Woof\", \"Dog\"));\n",
    "zoo.push(new Animal(\"Thomas\", \"Meow\", \"Cat\"));\n",
    "zoo.push(new Animal(\"Anish\", \"What?\", \"Human\"));\n",
    "\n",
    "// Step 4: Loop through all animals and make them speak\n",
    "// DONE: Use a for loop (or forEach) to call speak() on each animal\n",
    "zoo.forEach(animal => {\n",
    "  animal.speak();\n",
    "  // Step 5: Optional bonus: Call describe() too\n",
    "  animal.describe();\n",
    "});\n",
    "\n",
    "// Step 5 Bonus: Let the user add a new animal (works in browser)\n",
    "// Uncomment if running in browser with prompt()\n",
    "let name = prompt(\"Enter the animal's name:\");\n",
    "let sound = prompt(\"Enter the sound it makes:\");\n",
    "let kind = prompt(\"Enter the kind of animal:\");\n",
    "let newAnimal = new Animal(name, sound, kind);\n",
    "zoo.push(newAnimal);\n",
    "newAnimal.speak();\n",
    "newAnimal.describe();\n",
    "\n"
   ]
  },
  {
   "cell_type": "markdown",
   "id": "efc35c8b",
   "metadata": {},
   "source": [
    "## Homework"
   ]
  },
  {
   "cell_type": "code",
   "execution_count": null,
   "id": "c47afda8",
   "metadata": {
    "vscode": {
     "languageId": "javascript"
    }
   },
   "outputs": [],
   "source": [
    "%%javascript\n",
    "\n",
    "// Step 1: Make a list of choices\n",
    "const choices = [\"rock\", \"paper\", \"scissors\"];\n",
    "\n",
    "// Step 2: Ask the user for their choice (browser version with prompt)\n",
    "let userChoice = prompt(\"Choose rock, paper, or scissors:\").toLowerCase();\n",
    "\n",
    "// Step 3: Computer picks a random choice\n",
    "const computerChoice = choices[Math.floor(Math.random() * choices.length)];\n",
    "console.log(\"Computer chose: \" + computerChoice);\n",
    "\n",
    "// Step 4: Compare userChoice and computerChoice\n",
    "if (userChoice === computerChoice) {\n",
    "  console.log(\"Result: TIE.\");\n",
    "} else if (userChoice === \"rock\" && computerChoice === \"scissors\") {\n",
    "  console.log(\"Result: WIN!\");\n",
    "} else if (userChoice === \"scissors\" && computerChoice === \"paper\") {\n",
    "  console.log(\"Result: WIN!\");\n",
    "} else if (userChoice === \"paper\" && computerChoice === \"rock\") {\n",
    "  console.log(\"Result: WIN!\");\n",
    "} else {\n",
    "  console.log(\"Result: LOSS :(\");\n",
    "}\n",
    "\n",
    "// Bonus: Put the whole game in a loop\n",
    "// Uncomment to play multiple rounds in browser\n",
    "\n",
    "while (true) {\n",
    "  userChoice = prompt(\"REPEAT: Choose between rock, paper or scissors\");\n",
    "  console.log(\"Computer chose: \" + computerChoice);\n",
    "  if (userChoice === computerChoice) {\n",
    "    console.log(\"RESULT: TIE.\");\n",
    "  } else if (userChoice === \"rock\" && computerChoice === \"scissors\") {\n",
    "    console.log(\"Result: WIN!\");\n",
    "  } else if (userChoice === \"scissors\" && computerChoice === \"paper\") {\n",
    "    console.log(\"Result: WIN!\");\n",
    "  } else if (userChoice === \"paper\" && computerChoice === \"rock\") {\n",
    "    console.log(\"Result: WIN!\");\n",
    "  } else {\n",
    "    console.log(\"Result: LOSS :(\");\n",
    "  }\n",
    "}\n"
   ]
  },
  {
   "cell_type": "markdown",
   "id": "b0c99301",
   "metadata": {},
   "source": [
    "## Sumbmission!"
   ]
  },
  {
   "cell_type": "markdown",
   "id": "2c838d30",
   "metadata": {},
   "source": [
    "https://forms.gle/2aPP6CXFdQnNaE7GA"
   ]
  }
 ],
 "metadata": {
  "kernelspec": {
   "display_name": "venv (3.13.7)",
   "language": "python",
   "name": "python3"
  },
  "language_info": {
   "name": "python",
   "version": "3.13.7"
  }
 },
 "nbformat": 4,
 "nbformat_minor": 5
}
